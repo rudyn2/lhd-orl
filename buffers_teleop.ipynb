{
 "cells": [
  {
   "cell_type": "code",
   "execution_count": 112,
   "metadata": {},
   "outputs": [],
   "source": [
    "from load_dataset import load_dataset\n",
    "from describe_dataset import describe\n",
    "import matplotlib.pyplot as plt\n",
    "import numpy as np\n",
    "from d3rlpy.dataset import MDPDataset"
   ]
  },
  {
   "cell_type": "code",
   "execution_count": 37,
   "metadata": {},
   "outputs": [],
   "source": [
    "teleop_dataset = load_dataset(\"data/teleop_1000.h5\")\n",
    "buffer_1 = load_dataset(\"data/buffer_1.pkl\")"
   ]
  },
  {
   "cell_type": "code",
   "execution_count": 38,
   "metadata": {},
   "outputs": [],
   "source": [
    "teleop_returns = np.array([e.compute_return() for e in teleop_dataset.episodes])\n",
    "buffer1_returns = np.array([e.compute_return() for e in buffer_1.episodes])"
   ]
  },
  {
   "attachments": {},
   "cell_type": "markdown",
   "metadata": {},
   "source": [
    "# Generate sub-buffers according to trajectories quality"
   ]
  },
  {
   "cell_type": "code",
   "execution_count": 109,
   "metadata": {},
   "outputs": [
    {
     "name": "stdout",
     "output_type": "stream",
     "text": [
      "Total returns > 0: 966\n",
      "Total returns < 0: 34\n"
     ]
    },
    {
     "data": {
      "image/png": "[encoded data removed]",
      "text/plain": [
       "<Figure size 800x800 with 1 Axes>"
      ]
     },
     "metadata": {},
     "output_type": "display_data"
    }
   ],
   "source": [
    "range_start = 80\n",
    "range_end = 130\n",
    "threshold_a = 102\n",
    "threshold_b = 107\n",
    "threshold_c = 112\n",
    "plt.figure(figsize=(8, 8))\n",
    "plt.hist(teleop_returns, bins=40, range=(range_start, range_end))\n",
    "plt.axvline(x=threshold_a, color=\"k\", linestyle=\"--\")\n",
    "plt.axvline(x=threshold_b, color=\"k\", linestyle=\"--\")\n",
    "plt.axvline(x=threshold_c, color=\"k\", linestyle=\"--\")\n",
    "plt.text(x=(range_start + threshold_a)/2 - 4, y=40, s=\"Buffer A\", color='red')\n",
    "plt.text(x=(threshold_a + threshold_b)/2 - 0.5, y=40, s=\"Buffer B\", rotation=90, color='red')\n",
    "plt.text(x=(threshold_b + threshold_c)/2 - 0.5, y=40, s=\"Buffer C\", rotation=90, color='red')\n",
    "plt.text(x=(threshold_c + range_end)/2 - 3, y=40, s=\"Buffer D\", color='red')\n",
    "plt.ylabel(\"# Episodes\")\n",
    "plt.xlabel(\"Return\")\n",
    "print(f\"Total returns > 0:\", np.sum(teleop_returns > 0))\n",
    "print(f\"Total returns < 0:\", np.sum(teleop_returns < 0))"
   ]
  },
  {
   "cell_type": "code",
   "execution_count": 103,
   "metadata": {},
   "outputs": [],
   "source": [
    "# get only good\n",
    "split_buffers = {\n",
    "    \"A\": {\n",
    "        \"range\": (-1e5, threshold_a),\n",
    "        \"episodes\": []\n",
    "    },\n",
    "    \"B\": {\n",
    "        \"range\": (threshold_a, threshold_b),\n",
    "        \"episodes\": []\n",
    "    },\n",
    "    \"C\": {\n",
    "        \"range\": (threshold_b, threshold_c),\n",
    "        \"episodes\": []\n",
    "    },\n",
    "    \"D\": {\n",
    "        \"range\": (threshold_c, 1e5),\n",
    "        \"episodes\": []\n",
    "    }\n",
    "}\n",
    "for episode in teleop_dataset.episodes:\n",
    "    ret = episode.compute_return()\n",
    "    for buffer_name in split_buffers.keys():\n",
    "        buffer_ret_range = split_buffers[buffer_name][\"range\"]\n",
    "        if ret >= buffer_ret_range[0] and ret < buffer_ret_range[1]:\n",
    "            split_buffers[buffer_name][\"episodes\"].append(episode)"
   ]
  },
  {
   "cell_type": "code",
   "execution_count": 174,
   "metadata": {},
   "outputs": [
    {
     "name": "stdout",
     "output_type": "stream",
     "text": [
      "Buffer A between -534.77 to 101.95 contains 318 (31.80%) episodes with average return 40.92\n",
      "Buffer B between 102.01 to 106.99 contains 401 (40.10%) episodes with average return 104.35\n",
      "Buffer C between 107.02 to 111.99 contains 191 (19.10%) episodes with average return 109.10\n",
      "Buffer D between 112.25 to 120.15 contains 90 (9.00%) episodes with average return 115.29\n"
     ]
    }
   ],
   "source": [
    "# describe\n",
    "for buffer_name, buffer_data in split_buffers.items():\n",
    "    range_ = buffer_data[\"range\"]\n",
    "    buffer_returns = np.array([e.compute_return() for e in buffer_data[\"episodes\"]])\n",
    "    avg_return = np.mean(buffer_returns)\n",
    "    print(f\"Buffer {buffer_name} between {min(buffer_returns):.2f} to {max(buffer_returns):.2f} contains {len(buffer_data['episodes'])} ({100 * len(buffer_data['episodes'])/len(teleop_dataset) :.2f}%) episodes with average return {avg_return:.2f}\")"
   ]
  },
  {
   "cell_type": "code",
   "execution_count": 178,
   "metadata": {},
   "outputs": [
    {
     "name": "stdout",
     "output_type": "stream",
     "text": [
      "Generating subuffer A\n",
      "Avg return: 40.92. Exported to data/teleop_subbuffer_A.h5\n",
      "Generating subuffer B\n",
      "Avg return: 104.35. Exported to data/teleop_subbuffer_B.h5\n",
      "Generating subuffer C\n",
      "Avg return: 109.10. Exported to data/teleop_subbuffer_C.h5\n",
      "Generating subuffer D\n",
      "Avg return: 115.29. Exported to data/teleop_subbuffer_D.h5\n"
     ]
    }
   ],
   "source": [
    "\n",
    "for buffer_name, buffer_data in split_buffers.items():\n",
    "    print(f\"Generating subuffer {buffer_name}\")\n",
    "    observations = []\n",
    "    rewards = []\n",
    "    actions = []\n",
    "    terminals = []\n",
    "    for i, episode in enumerate(buffer_data[\"episodes\"]):\n",
    "        observations.append(episode.observations)\n",
    "        rewards.append(episode.rewards)\n",
    "        actions.append(episode.actions)\n",
    "        term_array = np.zeros(shape=(len(episode.rewards)))\n",
    "        term_array[-1] = episode.terminal\n",
    "        terminals.append(term_array)\n",
    "    subbuffer = MDPDataset(observations=np.concatenate(observations),\n",
    "                           actions=np.concatenate(actions), \n",
    "                           rewards=np.concatenate(rewards), \n",
    "                           terminals=np.concatenate(terminals))\n",
    "    subbuffer_returns = np.array([e.compute_return() for e in subbuffer])\n",
    "    avg_return = np.mean(subbuffer_returns)\n",
    "    output_name = f\"data/teleop_subbuffer_{buffer_name}.h5\"\n",
    "    subbuffer.dump(output_name)\n",
    "    print(f\"Avg return: {avg_return:.2f}. Exported to {output_name}\")"
   ]
  }
 ],
 "metadata": {
  "kernelspec": {
   "display_name": "Python 3",
   "language": "python",
   "name": "python3"
  },
  "language_info": {
   "codemirror_mode": {
    "name": "ipython",
    "version": 3
   },
   "file_extension": ".py",
   "mimetype": "text/x-python",
   "name": "python",
   "nbconvert_exporter": "python",
   "pygments_lexer": "ipython3",
   "version": "3.8.10 (default, Nov 14 2022, 12:59:47) \n[GCC 9.4.0]"
  },
  "orig_nbformat": 4,
  "vscode": {
   "interpreter": {
    "hash": "e7370f93d1d0cde622a1f8e1c04877d8463912d04d973331ad4851f04de6915a"
   }
  }
 },
 "nbformat": 4,
 "nbformat_minor": 2
}
